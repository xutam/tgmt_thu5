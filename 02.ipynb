{
 "cells": [
  {
   "cell_type": "code",
   "execution_count": 52,
   "id": "b6eed216-ae05-4f07-aa38-a91262ee498d",
   "metadata": {},
   "outputs": [],
   "source": [
    "from PIL import Image\n",
    "from imgtools import *"
   ]
  },
  {
   "cell_type": "code",
   "execution_count": 54,
   "id": "119ec931-0924-4ab8-a899-902faf2f7b17",
   "metadata": {},
   "outputs": [],
   "source": [
    "my_dir = 'file:///D:/timetable/Thursday/thigiacmaytinh/img/01.jpg'"
   ]
  },
  {
   "cell_type": "code",
   "execution_count": 56,
   "id": "8d709187-9ce9-4788-a225-e6c7c0bc59ec",
   "metadata": {},
   "outputs": [],
   "source": [
    "imgs =  get_image_list(my_dir)"
   ]
  },
  {
   "cell_type": "code",
   "execution_count": 59,
   "id": "67487844-25be-4fa4-9a2c-22397f0f04f3",
   "metadata": {},
   "outputs": [],
   "source": [
    "for img in imgs:\n",
    "    print(img.size)\n",
    "    display(img)"
   ]
  },
  {
   "cell_type": "code",
   "execution_count": null,
   "id": "0815dba1-1369-44e8-8843-5f419c7edda9",
   "metadata": {},
   "outputs": [],
   "source": []
  }
 ],
 "metadata": {
  "kernelspec": {
   "display_name": "Python 3 (ipykernel)",
   "language": "python",
   "name": "python3"
  },
  "language_info": {
   "codemirror_mode": {
    "name": "ipython",
    "version": 3
   },
   "file_extension": ".py",
   "mimetype": "text/x-python",
   "name": "python",
   "nbconvert_exporter": "python",
   "pygments_lexer": "ipython3",
   "version": "3.12.4"
  }
 },
 "nbformat": 4,
 "nbformat_minor": 5
}
