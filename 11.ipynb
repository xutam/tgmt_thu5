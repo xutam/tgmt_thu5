{
 "cells": [
  {
   "cell_type": "code",
   "execution_count": 1,
   "id": "fc17a137-0863-4e4c-b016-f97000617101",
   "metadata": {},
   "outputs": [],
   "source": [
    "import numpy as np"
   ]
  },
  {
   "cell_type": "code",
   "execution_count": 3,
   "id": "db671dbb-0fca-4993-9ce1-7ef5aa3c68e1",
   "metadata": {},
   "outputs": [
    {
     "name": "stdout",
     "output_type": "stream",
     "text": [
      "[1 2 3]\n"
     ]
    }
   ],
   "source": [
    "# tao mang\n",
    "a = np.array([1,2,3])\n",
    "# in mang\n",
    "print(a)"
   ]
  },
  {
   "cell_type": "code",
   "execution_count": 4,
   "id": "81842509-fad6-4c56-85be-cdccd6c50224",
   "metadata": {},
   "outputs": [
    {
     "name": "stdout",
     "output_type": "stream",
     "text": [
      "2\n"
     ]
    }
   ],
   "source": [
    "# in ra 1 phan tu\n",
    "element = a[1]\n",
    "print(element)"
   ]
  },
  {
   "cell_type": "code",
   "execution_count": 7,
   "id": "ec2940ad-9a9f-477c-af76-02dc34a53e21",
   "metadata": {},
   "outputs": [
    {
     "name": "stdout",
     "output_type": "stream",
     "text": [
      "matrix\n",
      "[[1 2 3]\n",
      " [4 5 6]\n",
      " [7 8 9]]\n",
      "6\n"
     ]
    }
   ],
   "source": [
    "# tao mang 2 chieu\n",
    "matrix = np.array([[1,2,3],[4,5,6],[7,8,9]])\n",
    "print(\"matrix\")\n",
    "print(matrix)\n",
    "\n",
    "# in 1 phan tu\n",
    "element = matrix[1,2]\n",
    "print(element)"
   ]
  },
  {
   "cell_type": "code",
   "execution_count": 9,
   "id": "114aa652-fc22-4b06-9e5d-f02d55804a46",
   "metadata": {},
   "outputs": [
    {
     "name": "stdout",
     "output_type": "stream",
     "text": [
      "[0. 0. 0. 0. 0.]\n",
      "[1. 1. 1. 1. 1.]\n",
      "<built-in function empty>\n",
      "[ 0  1  2  3  4  5  6  7  8  9 10 11 12 13 14 15 16 17 18 19 20 21 22 23\n",
      " 24 25 26 27 28 29 30 31 32 33 34 35 36 37 38 39 40 41 42 43 44 45 46 47\n",
      " 48 49 50 51 52 53 54 55 56 57 58 59 60 61 62 63 64 65 66 67 68 69 70 71\n",
      " 72 73 74 75 76 77 78 79 80 81 82 83 84 85 86 87 88 89 90 91 92 93 94 95\n",
      " 96 97 98 99]\n",
      "[ 0.   2.5  5.   7.5 10. ]\n"
     ]
    },
    {
     "data": {
      "text/plain": [
       "array([1, 1, 1, 1, 1], dtype=int64)"
      ]
     },
     "execution_count": 9,
     "metadata": {},
     "output_type": "execute_result"
    }
   ],
   "source": [
    "# cach tao mang\n",
    "# cach tao mang toan so 0\n",
    "a = np.zeros(5)\n",
    "print(a)\n",
    "\n",
    "# cach tao mang toan so 1\n",
    "a = np.ones(5)\n",
    "print(a)\n",
    "\n",
    "# tao mang\n",
    "a = np.empty\n",
    "print(a)\n",
    "\n",
    "#tao mang tu 0 den 99\n",
    "a = np.arange(100)\n",
    "print(a)\n",
    "\n",
    "# tao mang gom cac phan tu voi khoang cach deu nhau\n",
    "a = np.linspace(0, 10, num=5)\n",
    "print(a)\n",
    "\n",
    "# xac dinh kieu du lieu\n",
    "a = np.ones(5, dtype=np.int64)\n",
    "a"
   ]
  },
  {
   "cell_type": "code",
   "execution_count": 10,
   "id": "690ae944-3f28-4a7b-b568-09bdb5fa6c25",
   "metadata": {},
   "outputs": [
    {
     "name": "stdout",
     "output_type": "stream",
     "text": [
      "[3 1 2 4 5]\n"
     ]
    }
   ],
   "source": [
    "# them , xoa , sap xep mang\n",
    "arr = np.array([3, 1, 2, 4, 5])\n",
    "print(arr)"
   ]
  },
  {
   "cell_type": "code",
   "execution_count": 11,
   "id": "f0aa11a2-0f2c-464a-a7b5-133664c252f7",
   "metadata": {},
   "outputs": [
    {
     "name": "stdout",
     "output_type": "stream",
     "text": [
      "[1 2 3 4 5]\n"
     ]
    }
   ],
   "source": [
    "# sap xep\n",
    "arr = np.sort(arr)\n",
    "print(arr)"
   ]
  },
  {
   "cell_type": "code",
   "execution_count": 13,
   "id": "ded57cee-6788-406b-8f70-a673ff0ab75d",
   "metadata": {},
   "outputs": [
    {
     "name": "stdout",
     "output_type": "stream",
     "text": [
      "[5 4 3 2 1]\n"
     ]
    }
   ],
   "source": [
    "# sap xep nguoc\n",
    "arr = np.sort(arr)[::-1]\n",
    "print(arr)"
   ]
  },
  {
   "cell_type": "code",
   "execution_count": 14,
   "id": "e577041e-bd77-4792-93a8-f48179e5a4d3",
   "metadata": {},
   "outputs": [
    {
     "name": "stdout",
     "output_type": "stream",
     "text": [
      "[  5   4   3   2   1 100]\n"
     ]
    }
   ],
   "source": [
    "# them phan tu vo mang\n",
    "arr = np.append(arr, 100)\n",
    "print(arr)"
   ]
  },
  {
   "cell_type": "code",
   "execution_count": 15,
   "id": "63e86f89-a8fa-45c6-b2a1-803f9ac1c68e",
   "metadata": {},
   "outputs": [
    {
     "name": "stdout",
     "output_type": "stream",
     "text": [
      "[  5   4   3   1 100]\n"
     ]
    }
   ],
   "source": [
    "# xoa di 1 vi tri nao do trong mang\n",
    "arr = np.delete(arr, 3)\n",
    "print(arr)"
   ]
  },
  {
   "cell_type": "code",
   "execution_count": 16,
   "id": "0ae4fb74-e6e6-4669-a13f-5347a4829950",
   "metadata": {},
   "outputs": [
    {
     "name": "stdout",
     "output_type": "stream",
     "text": [
      "[[1 2 3]\n",
      " [4 6 8]\n",
      " [5 7 9]]\n",
      "[[3 1 2]\n",
      " [4 6 5]\n",
      " [9 7 8]]\n"
     ]
    }
   ],
   "source": [
    "# tao 1 mang 2 chieu\n",
    "arr = np.array([[3, 1, 2],\n",
    "                [4, 6, 8],\n",
    "                [9, 7, 5]])\n",
    "\n",
    "sap_xep_theo_hang = np.sort(arr, axis=1) # tang dan\n",
    "print(sap_xep_theo_hang)\n",
    "\n",
    "sap_xep_theo_cot = np.sort(arr, axis=0) # giam dan\n",
    "print(sap_xep_theo_cot)"
   ]
  },
  {
   "cell_type": "code",
   "execution_count": 17,
   "id": "aed185ad-a940-4c7c-ab22-005b5420dad2",
   "metadata": {},
   "outputs": [
    {
     "name": "stdout",
     "output_type": "stream",
     "text": [
      "[[3 2 1]\n",
      " [8 6 4]\n",
      " [9 7 5]]\n",
      "[[9 7 8]\n",
      " [4 6 5]\n",
      " [3 1 2]]\n"
     ]
    }
   ],
   "source": [
    "# tao 1 mang 2 chieu\n",
    "arr = np.array([[3, 1, 2],\n",
    "                [4, 6, 8],\n",
    "                [9, 7, 5]])\n",
    "\n",
    "sap_xep_theo_hang = -np.sort(-arr, axis=1) # giam dan\n",
    "print(sap_xep_theo_hang)\n",
    "\n",
    "sap_xep_theo_cot = -np.sort(-arr, axis=0) # tang dan\n",
    "print(sap_xep_theo_cot)"
   ]
  },
  {
   "cell_type": "code",
   "execution_count": 18,
   "id": "a1654fd2-ffbf-47e6-8907-53444e830963",
   "metadata": {},
   "outputs": [
    {
     "name": "stdout",
     "output_type": "stream",
     "text": [
      "so chieu: 2\n",
      "kich thuoc: 6\n",
      "hinh dang: (2, 3)\n"
     ]
    }
   ],
   "source": [
    "# tao 1 mang 2 dimension\n",
    "arr = np.array([[1, 2, 3], [4, 5, 6]])\n",
    "#su dung cac thuoc tinh de lay thong tin ve mang\n",
    "so_chieu = arr.ndim # so chieu (2 chieu)\n",
    "kich_thuoc = arr.size # kich thuoc ( tong so phan tu (6) )\n",
    "hinh_dang = arr.shape # hinh dang (so hang vs so cot ((2, 3 ))\n",
    "\n",
    "print(\"so chieu:\", so_chieu)\n",
    "print(\"kich thuoc:\", kich_thuoc)\n",
    "print(\"hinh dang:\", hinh_dang)"
   ]
  },
  {
   "cell_type": "code",
   "execution_count": 19,
   "id": "13a2367a-aea3-4c4e-a73f-7113137d2e28",
   "metadata": {},
   "outputs": [
    {
     "name": "stdout",
     "output_type": "stream",
     "text": [
      "[1. 2. 3. 4. 5.]\n"
     ]
    }
   ],
   "source": [
    "# chuyen doi kieu du lieu\n",
    "arr = np.array([1, 2, 3, 4, 5])\n",
    "arr_float = arr.astype(float)\n",
    "print(arr_float)"
   ]
  },
  {
   "cell_type": "code",
   "execution_count": 20,
   "id": "992035c3-9dd6-4aff-8a42-c7843a9a63ca",
   "metadata": {},
   "outputs": [
    {
     "name": "stdout",
     "output_type": "stream",
     "text": [
      "[[1 2 3]\n",
      " [4 5 6]]\n",
      "[[1 2]\n",
      " [3 4]\n",
      " [5 6]]\n"
     ]
    }
   ],
   "source": [
    "# thay doi hinh dang cua mang\n",
    "arr = np.array([1, 2, 3, 4, 5, 6])\n",
    "reshaped_arr = arr.reshape(2,3)\n",
    "print(reshaped_arr)\n",
    "reshaped_arr = arr.reshape(3,2)\n",
    "print(reshaped_arr)"
   ]
  },
  {
   "cell_type": "code",
   "execution_count": 21,
   "id": "54319229-04c2-488b-a4ca-47a0f9fc53d1",
   "metadata": {},
   "outputs": [
    {
     "name": "stdout",
     "output_type": "stream",
     "text": [
      "[1 2 3 4 5 6]\n"
     ]
    }
   ],
   "source": [
    "# chuyen mang thanh 1 chieu\n",
    "reshaped_arr = reshaped_arr.flatten()\n",
    "print(reshaped_arr)"
   ]
  },
  {
   "cell_type": "code",
   "execution_count": 22,
   "id": "5f89c177-ed71-46cd-ad3a-50042f648e7d",
   "metadata": {},
   "outputs": [
    {
     "name": "stdout",
     "output_type": "stream",
     "text": [
      "[2 3 4]\n"
     ]
    }
   ],
   "source": [
    "# cat lat mang\n",
    "arr = np.array([1, 2, 3, 4, 5])\n",
    "# cat tu phan tu 1 -> 4\n",
    "sub_arr = arr[1:4]\n",
    "print(sub_arr)"
   ]
  },
  {
   "cell_type": "code",
   "execution_count": 23,
   "id": "ee84e8cd-f136-4a80-9bd3-3c2ff8f86aae",
   "metadata": {},
   "outputs": [
    {
     "name": "stdout",
     "output_type": "stream",
     "text": [
      "[1 2 3 4]\n"
     ]
    }
   ],
   "source": [
    "sub_arr = arr[:-1]\n",
    "print(sub_arr)"
   ]
  },
  {
   "cell_type": "code",
   "execution_count": 24,
   "id": "01265629-73b2-4b4a-be7d-38a437eaf243",
   "metadata": {},
   "outputs": [
    {
     "name": "stdout",
     "output_type": "stream",
     "text": [
      "[4 5]\n"
     ]
    }
   ],
   "source": [
    "sub_arr = arr[-2:]\n",
    "print(sub_arr)"
   ]
  },
  {
   "cell_type": "code",
   "execution_count": 25,
   "id": "2dbadaf0-652a-4a2a-9c3e-e2bb3df6b4ec",
   "metadata": {},
   "outputs": [
    {
     "name": "stdout",
     "output_type": "stream",
     "text": [
      "[[1 2 3]\n",
      " [4 5 6]]\n"
     ]
    }
   ],
   "source": [
    "# chuyen vi mang\n",
    "arr = np.array([[1, 2, 3], [4, 5, 6]])\n",
    "print(arr)"
   ]
  },
  {
   "cell_type": "code",
   "execution_count": 26,
   "id": "f332e90f-0983-4c57-b149-77fe36c01daf",
   "metadata": {},
   "outputs": [
    {
     "name": "stdout",
     "output_type": "stream",
     "text": [
      "[[1 4]\n",
      " [2 5]\n",
      " [3 6]]\n"
     ]
    }
   ],
   "source": [
    "transposed_arr = arr.T\n",
    "print(transposed_arr)"
   ]
  },
  {
   "cell_type": "code",
   "execution_count": 27,
   "id": "c6237579-917d-41eb-bbbf-966fa4798934",
   "metadata": {},
   "outputs": [
    {
     "name": "stdout",
     "output_type": "stream",
     "text": [
      "[1 2 3 4 5 6]\n"
     ]
    }
   ],
   "source": [
    "# noi mang\n",
    "arr1 = np.array([1, 2, 3])\n",
    "arr2 = np.array([4, 5, 6])\n",
    "arr = np.concatenate((arr1, arr2))\n",
    "print(arr)"
   ]
  },
  {
   "cell_type": "code",
   "execution_count": 28,
   "id": "42674c2f-4bce-4184-8f59-e86d210061a1",
   "metadata": {},
   "outputs": [
    {
     "name": "stdout",
     "output_type": "stream",
     "text": [
      "tong cua mang arr: 15\n"
     ]
    }
   ],
   "source": [
    "# ham tinh tong ( sum )\n",
    "# ham numpy.sum() cho phep tinh tong cac phan tu trong mang\n",
    "arr = np.array([1, 2, 3, 4, 5])\n",
    "total = np.sum(arr)\n",
    "print(\"tong cua mang arr:\", total)"
   ]
  },
  {
   "cell_type": "code",
   "execution_count": 29,
   "id": "2bafb1ea-4d05-4375-ba59-9647a88cd7d0",
   "metadata": {},
   "outputs": [],
   "source": [
    "# ham numpy.mean() tinh gia tri trung binh cua cac phan tu trong mang "
   ]
  },
  {
   "cell_type": "code",
   "execution_count": 31,
   "id": "962eecc2-b40b-481a-b93f-5727cade0822",
   "metadata": {},
   "outputs": [
    {
     "name": "stdout",
     "output_type": "stream",
     "text": [
      "gia tri trung binh cua mang arr: 3.0\n"
     ]
    }
   ],
   "source": [
    "average = np.mean(arr)\n",
    "print(\"gia tri trung binh cua mang arr:\", average)"
   ]
  },
  {
   "cell_type": "code",
   "execution_count": 32,
   "id": "bdf41804-2524-4188-aa9d-1d4aabf96601",
   "metadata": {},
   "outputs": [
    {
     "name": "stdout",
     "output_type": "stream",
     "text": [
      "gia tri max trong mang arr: 5\n",
      "gia tri min trong mang arr: 1\n"
     ]
    }
   ],
   "source": [
    "# ham numpy.max() va numpy.min() dung de tim gia tri max va min trong mang\n",
    "max_value = np.max(arr)\n",
    "min_value = np.min(arr)\n",
    "print(\"gia tri max trong mang arr:\", max_value)\n",
    "print(\"gia tri min trong mang arr:\", min_value)"
   ]
  },
  {
   "cell_type": "code",
   "execution_count": 39,
   "id": "fcd46f43-7882-4649-ac6b-1997bd56c0bc",
   "metadata": {},
   "outputs": [
    {
     "name": "stdout",
     "output_type": "stream",
     "text": [
      "do lech chuan cua mang arr: 1.4142135623730951\n"
     ]
    }
   ],
   "source": [
    "# ham numpy.sdt() tinh do lech chuan cua mang , do luong muc do phan tan cua du lieu\n",
    "std_deviation = np.std(arr)\n",
    "print(\"do lech chuan cua mang arr:\", std_deviation)"
   ]
  },
  {
   "cell_type": "code",
   "execution_count": 40,
   "id": "3c31d62a-f731-40f7-af0f-55f324768bc4",
   "metadata": {},
   "outputs": [
    {
     "name": "stdout",
     "output_type": "stream",
     "text": [
      "phuong sai cua mang arr: 1.4142135623730951\n"
     ]
    }
   ],
   "source": [
    "# ham numpy.var() tinh phuong sai cua mang , do luong muc do bien thien cua du lieu\n",
    "variance = np.var(arr)\n",
    "print(\"phuong sai cua mang arr:\", std_deviation)"
   ]
  },
  {
   "cell_type": "code",
   "execution_count": 41,
   "id": "7829e516-985d-44b8-aa57-5370b9ce7366",
   "metadata": {},
   "outputs": [
    {
     "name": "stdout",
     "output_type": "stream",
     "text": [
      "tong tich chap cua arr1 và arr2: 32\n"
     ]
    }
   ],
   "source": [
    "# ham numpy.dot() tinh tong tich chap cua 2 mang (vector)\n",
    "arr1 = np.array([1, 2, 3])\n",
    "arr2 = np.array([4, 5, 6])\n",
    "dot_product = np.dot(arr1, arr2)\n",
    "print(\"tong tich chap cua arr1 và arr2:\", dot_product)"
   ]
  },
  {
   "cell_type": "code",
   "execution_count": null,
   "id": "71090e45-cb9a-4b4b-bc37-fb9b8cb056f2",
   "metadata": {},
   "outputs": [],
   "source": []
  }
 ],
 "metadata": {
  "kernelspec": {
   "display_name": "Python 3 (ipykernel)",
   "language": "python",
   "name": "python3"
  },
  "language_info": {
   "codemirror_mode": {
    "name": "ipython",
    "version": 3
   },
   "file_extension": ".py",
   "mimetype": "text/x-python",
   "name": "python",
   "nbconvert_exporter": "python",
   "pygments_lexer": "ipython3",
   "version": "3.12.4"
  }
 },
 "nbformat": 4,
 "nbformat_minor": 5
}
