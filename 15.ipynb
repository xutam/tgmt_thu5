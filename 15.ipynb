{
 "cells": [
  {
   "cell_type": "code",
   "execution_count": 2,
   "id": "a25db0cc-d0fe-4472-93b5-64568c25a2c2",
   "metadata": {},
   "outputs": [
    {
     "name": "stdout",
     "output_type": "stream",
     "text": [
      "Kết quả:  [ 3. -1.]\n"
     ]
    }
   ],
   "source": [
    "# Giải hệ phương trình tuyến tính\n",
    "# !pip install scipy\n",
    "from scipy import linalg\n",
    "import numpy as np\n",
    "\n",
    "# Định nghĩa hệ phương trình tuyến tính\n",
    "A = np.array([[2, 1],[3, 2]])\n",
    "b = np.array([5,7])\n",
    "\n",
    "# Giải hệ phương trình tuyến tính\n",
    "x = linalg.solve(A, b)\n",
    "print(\"Kết quả: \", x)"
   ]
  },
  {
   "cell_type": "code",
   "execution_count": 4,
   "id": "ec026dd9-ef8a-4207-9fc8-d73a7a7512a8",
   "metadata": {},
   "outputs": [
    {
     "name": "stdout",
     "output_type": "stream",
     "text": [
      "Tích phân f(x) từ 0 đến 1:  (0.33333333333333337, 3.700743415417189e-15)\n"
     ]
    }
   ],
   "source": [
    "# Tính tích phân của một hàm số\n",
    "from scipy import integrate\n",
    "\n",
    "# Định nghĩa hàm f(x) = x^2\n",
    "def my_function(x):\n",
    "    return x**2\n",
    "\n",
    "# Tính tích phân của f(x) từ 0 đến 1\n",
    "integral = integrate.quad(my_function, 0, 1);\n",
    "print(\"Tích phân f(x) từ 0 đến 1: \", integral)"
   ]
  },
  {
   "cell_type": "code",
   "execution_count": 6,
   "id": "803f1738-595f-431e-9bee-f5a8cab8b8a1",
   "metadata": {},
   "outputs": [
    {
     "name": "stdout",
     "output_type": "stream",
     "text": [
      "Giá trị riêng:  [3.73205081+0.j 0.26794919+0.j]\n",
      "Vector riêng:  [[ 0.5       -0.5      ]\n",
      " [ 0.8660254  0.8660254]]\n"
     ]
    }
   ],
   "source": [
    "# !pip install scipy\n",
    "from scipy import linalg\n",
    "import numpy as np\n",
    "\n",
    "# Tính giá trị riêng và vector riêng của một ma trận:\n",
    "A = np.array([[2,1], [3,2]])\n",
    "\n",
    "# Tính giá trị riêng và vector riêng của ma trận\n",
    "evals, evecs = linalg.eig(A)\n",
    "\n",
    "print(\"Giá trị riêng: \", evals)\n",
    "print(\"Vector riêng: \", evecs)"
   ]
  },
  {
   "cell_type": "code",
   "execution_count": null,
   "id": "aabe904e-2a1a-4153-bcc8-2cf7f633bdda",
   "metadata": {},
   "outputs": [],
   "source": []
  }
 ],
 "metadata": {
  "kernelspec": {
   "display_name": "Python 3 (ipykernel)",
   "language": "python",
   "name": "python3"
  },
  "language_info": {
   "codemirror_mode": {
    "name": "ipython",
    "version": 3
   },
   "file_extension": ".py",
   "mimetype": "text/x-python",
   "name": "python",
   "nbconvert_exporter": "python",
   "pygments_lexer": "ipython3",
   "version": "3.12.4"
  }
 },
 "nbformat": 4,
 "nbformat_minor": 5
}
